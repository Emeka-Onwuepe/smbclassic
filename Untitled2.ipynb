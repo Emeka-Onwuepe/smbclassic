{
 "cells": [
  {
   "cell_type": "code",
   "execution_count": 1,
   "id": "bb51037e-1ad5-4c39-b835-99b6d974325b",
   "metadata": {},
   "outputs": [],
   "source": [
    "import pandas as pd\n",
    "import numpy as np"
   ]
  },
  {
   "cell_type": "code",
   "execution_count": 2,
   "id": "1e9c54e1-1c80-4cf5-98c8-9e90af56ebe4",
   "metadata": {},
   "outputs": [],
   "source": [
    "product = \"Shoes\"\n",
    "cols = ['Product','Category','Brand','Type','Color','Size',\n",
    "       ]\n",
    "category = ['Ankle Shoe','Corporate shoe','Half Shoe',\n",
    "            'Loafers Shoe',\n",
    "            'Ankle Sneakers','Corporate Sneakers',\n",
    "            'Ankle Canvas','Cut Canvas',\n",
    "            'Canvas']\n",
    "\n",
    "types = {'Ankle Shoe':['Skin','Suede'],\n",
    "          'Corporate shoe':['Skin','Suede'],\n",
    "          'Half Shoe':['Skin','Suede'],\n",
    "         'Loafers Shoe':[],\n",
    "          'Ankle Sneakers':[],\n",
    "          'Corporate Sneakers':[],\n",
    "           'Ankle Canvas':[],\n",
    "          'Cut Canvas':[],\n",
    "           'Canvas':[]\n",
    "         }\n",
    "\n",
    "brands = {'Ankle Shoe':['Clarks','Louise Viddon','Wine Dove','Terra Impossa',\n",
    "                        'Next','Billionaire','Life Light','R6SI','Philip Plain',\n",
    "                       'Goco','OMDE','Gucci','GSGS','Prada','Boricia','AB & CD',\n",
    "                        \"Verocuoio\",'Alba','Timber Land','John Foster',\n",
    "                       \n",
    "                       ],\n",
    "          'Corporate shoe':['Gucci','Santani','J Benato','GiorGio Armani','Roscote',\n",
    "                            'Aldo','MJ','John Foster','Reaction (Kenneth Cole',\n",
    "                            'Salvatore','Rossi','Ferragamo','Robert Wathe','Lioous MJ',\n",
    "                            'Clarteed','Goco','Bayek','Clarks','Comotek','GP Gasper',\n",
    "                            'Dsbant','Baxilium','Bata','Billionaire','Event','Addeheng',\n",
    "                            'Chrome Beat','Ykadeng','Blilai','Diersten','Berluti','Sebago Duckside',\n",
    "                            'Renato Dulbecc','Lious Vuitton','LV','Wine Dove','Hermes','Boricia',\n",
    "                            'Dior','Versace','DNL','TK','J.M Weston','Prada','Roukie Dutti',\n",
    "                            'Earnest','Tom Ford','Anax','Marc','Cavalli','Bunker','Sagreottino',\n",
    "                            'Timber Land',''\n",
    "                           ],\n",
    "          'Half Shoe':['Feragamo','Anax','Tomford','Lious Vuitton','Fendi','Dior','Fashion',\n",
    "                        \n",
    "                      ],\n",
    "          'Loafers Shoe':['Lious Vuitton','Cervo','Pedro','Clarteed','Ferragamo',\n",
    "                          'Gucci','Giorgio Armani','Timber Land', 'Versace',\n",
    "                          'Clarks','Hermes','Tods','Le Sunda',\n",
    "                         \n",
    "                         ],\n",
    "          'Ankle Sneakers':['Dabant','AB & CD','Vinsor','Amashi','Lieut Vinson','Mr Franck',\n",
    "                            'Mirko Gicoioli','Lauise Viddon','S.T','Roscote','Boss Victor',\n",
    "                            'L.V','Marc Cavalli','Philip Plein','Gucci',\n",
    "                           ],\n",
    "          'Corporate Sneakers':['Sunda','Balenciaga','Unity Human','SNRD','Fashion','Chasse',\n",
    "                                'Prada','L.V','Philip Plein','Zegna','Dolce & Gabbana','Philip',\n",
    "                                'Plein','S.T','Louis Vuitton','Botega Veneta','Y-3'\n",
    "                               \n",
    "                               ],\n",
    "           'Ankle Canvas':[],\n",
    "          'Cut Canvas':[],\n",
    "           'Canvas':['M11','Sport','Inextenso','Denchen','L. Bite','Fashion','Nike','Le Coq Sportif']\n",
    "         }"
   ]
  },
  {
   "cell_type": "code",
   "execution_count": null,
   "id": "05877350-7b55-4424-add8-dbae9e8eb4c8",
   "metadata": {},
   "outputs": [],
   "source": []
  },
  {
   "cell_type": "code",
   "execution_count": null,
   "id": "68cc404d-56d8-4073-92e7-1723148327ad",
   "metadata": {},
   "outputs": [],
   "source": []
  },
  {
   "cell_type": "code",
   "execution_count": 4,
   "id": "b96d84e5-507f-4941-9328-664920528488",
   "metadata": {},
   "outputs": [],
   "source": [
    "product = \"Pam\"\n",
    "cols = ['Product','Category','Brand','Type','Color','Size',\n",
    "       ]\n",
    "category = ['Skin']\n",
    "\n",
    "types = {'Skin':['Normal',\"Stock\"]\n",
    "         }\n",
    "\n",
    "brands = {\n",
    "          'Stock':['Louis Vuitton','Fendi','Fashion','Dior','Gucci',\n",
    "                   'DS Quared','Hermes','Versace','Valentino','Suicoke',\n",
    "                   'Lacoste','Emperor Armini','Philip Plein','Ferragmo',\n",
    "                   'Salvatore','Chloe','BurBerry'\n",
    "                  ]\n",
    "         }"
   ]
  },
  {
   "cell_type": "code",
   "execution_count": null,
   "id": "143d9296-6f2d-4ec3-9dc5-e330feeb7f84",
   "metadata": {},
   "outputs": [],
   "source": []
  },
  {
   "cell_type": "code",
   "execution_count": null,
   "id": "61e1793f-5278-4954-90bb-e509842685d6",
   "metadata": {},
   "outputs": [],
   "source": []
  },
  {
   "cell_type": "code",
   "execution_count": null,
   "id": "0b9c1c3e-52d7-4e14-afed-b3aa57e201c6",
   "metadata": {},
   "outputs": [],
   "source": []
  },
  {
   "cell_type": "code",
   "execution_count": 5,
   "id": "86698ead-1e50-428c-b06f-7a6bdeefe5f6",
   "metadata": {},
   "outputs": [],
   "source": [
    "product = \"Sandals\"\n",
    "cols = ['Product','Category','Brand','Type','Color','Size',\n",
    "       ]\n",
    "category = ['Skin']\n",
    "\n",
    "types = {'Skin':['Normal',\"Stock\"],\n",
    "         }\n",
    "\n",
    "brands = {\n",
    "          'Stock':['Versace','Emperor Armini'\n",
    "                  ]\n",
    "         }"
   ]
  },
  {
   "cell_type": "code",
   "execution_count": 6,
   "id": "4d91ee0a-2485-422a-9dc7-1a0e267a16ca",
   "metadata": {},
   "outputs": [],
   "source": [
    "product = \"Slippers\"\n",
    "cols = ['Product','Category','Brand','Type','Color','Size',\n",
    "       ]\n",
    "category = ['Dunlop','Rubber']\n",
    "\n",
    "types = {'Dunlop':['Normal',\"Stock\"],\n",
    "         'Rubber':['Normal',\"Stock\"],\n",
    "         }\n",
    "\n",
    "brands = {\n",
    "          'Stock':['Versace','Emperor Armini'\n",
    "                  ]\n",
    "         }"
   ]
  },
  {
   "cell_type": "code",
   "execution_count": null,
   "id": "fd769958-594e-4923-ba35-78df1b24bf93",
   "metadata": {},
   "outputs": [],
   "source": []
  },
  {
   "cell_type": "code",
   "execution_count": null,
   "id": "40de8de4-1230-4a07-814f-d75ed3c12852",
   "metadata": {},
   "outputs": [],
   "source": []
  },
  {
   "cell_type": "code",
   "execution_count": null,
   "id": "6df8cb5b-5a53-4bc2-add2-3ece5e9286b4",
   "metadata": {},
   "outputs": [],
   "source": []
  }
 ],
 "metadata": {
  "kernelspec": {
   "display_name": "Python 3 (ipykernel)",
   "language": "python",
   "name": "python3"
  },
  "language_info": {
   "codemirror_mode": {
    "name": "ipython",
    "version": 3
   },
   "file_extension": ".py",
   "mimetype": "text/x-python",
   "name": "python",
   "nbconvert_exporter": "python",
   "pygments_lexer": "ipython3",
   "version": "3.10.11"
  }
 },
 "nbformat": 4,
 "nbformat_minor": 5
}
